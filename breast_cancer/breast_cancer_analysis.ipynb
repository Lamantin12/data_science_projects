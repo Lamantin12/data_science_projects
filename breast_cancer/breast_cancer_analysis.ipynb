{
 "cells": [
  {
   "cell_type": "markdown",
   "id": "3ce753af",
   "metadata": {},
   "source": [
    "# This is breast cancer classification project\n",
    "### It id devided in several parts:\n",
    "* Data reading and cleaning\n",
    "* [EDA](#EDA)\n",
    "* Visualizations\n",
    "* Models"
   ]
  },
  {
   "cell_type": "code",
   "execution_count": 91,
   "id": "7ec9b7db",
   "metadata": {},
   "outputs": [
    {
     "name": "stdout",
     "output_type": "stream",
     "text": [
      "The autoreload extension is already loaded. To reload it, use:\n",
      "  %reload_ext autoreload\n"
     ]
    }
   ],
   "source": [
    "# some base imports\n",
    "import numpy as np\n",
    "import pandas as pd\n",
    "import matplotlib.pyplot as plt\n",
    "import seaborn as sns\n",
    "\n",
    "# additional imports\n",
    "import sys\n",
    "first_steps_path = r\"C:\\Users\\Windows\\Desktop\\study\\data_science_projects\\utils\\common_utils\"\n",
    "if first_steps_path not in sys.path:\n",
    "    sys.path.append(first_steps_path)\n",
    "from first_steps import first_descriptions\n",
    "# some basic settings\n",
    "pd.set_option('display.max_columns', 100)\n",
    "\n",
    "plt.style.use('ggplot')\n",
    "\n",
    "%load_ext autoreload\n",
    "%autoreload 2"
   ]
  },
  {
   "cell_type": "markdown",
   "id": "63aa6ffb",
   "metadata": {},
   "source": [
    "# Data reading and cleaning"
   ]
  },
  {
   "cell_type": "code",
   "execution_count": 100,
   "id": "7b99e4d1",
   "metadata": {},
   "outputs": [],
   "source": [
    "cancer_raw_data = pd.read_csv(\"SEER Breast Cancer Dataset .csv\")\n",
    "# there are mistake in data, so it has fully-nulled column, so we drop it\n",
    "cancer_raw_data = cancer_raw_data.drop('Unnamed: 3', axis = 1)"
   ]
  },
  {
   "cell_type": "code",
   "execution_count": 101,
   "id": "0c56854c",
   "metadata": {
    "scrolled": false
   },
   "outputs": [
    {
     "name": "stdout",
     "output_type": "stream",
     "text": [
      "************************************************* Dataset first description **************************************************\n",
      "****************************************************** Head of dataset *******************************************************\n"
     ]
    },
    {
     "data": {
      "text/html": [
       "<div>\n",
       "<style scoped>\n",
       "    .dataframe tbody tr th:only-of-type {\n",
       "        vertical-align: middle;\n",
       "    }\n",
       "\n",
       "    .dataframe tbody tr th {\n",
       "        vertical-align: top;\n",
       "    }\n",
       "\n",
       "    .dataframe thead th {\n",
       "        text-align: right;\n",
       "    }\n",
       "</style>\n",
       "<table border=\"1\" class=\"dataframe\">\n",
       "  <thead>\n",
       "    <tr style=\"text-align: right;\">\n",
       "      <th></th>\n",
       "      <th>Age</th>\n",
       "      <th>Race</th>\n",
       "      <th>Marital Status</th>\n",
       "      <th>T Stage</th>\n",
       "      <th>N Stage</th>\n",
       "      <th>6th Stage</th>\n",
       "      <th>Grade</th>\n",
       "      <th>A Stage</th>\n",
       "      <th>Tumor Size</th>\n",
       "      <th>Estrogen Status</th>\n",
       "      <th>Progesterone Status</th>\n",
       "      <th>Regional Node Examined</th>\n",
       "      <th>Reginol Node Positive</th>\n",
       "      <th>Survival Months</th>\n",
       "      <th>Status</th>\n",
       "    </tr>\n",
       "  </thead>\n",
       "  <tbody>\n",
       "    <tr>\n",
       "      <th>0</th>\n",
       "      <td>43</td>\n",
       "      <td>Other (American Indian/AK Native, Asian/Pacifi...</td>\n",
       "      <td>Married (including common law)</td>\n",
       "      <td>T2</td>\n",
       "      <td>N3</td>\n",
       "      <td>IIIC</td>\n",
       "      <td>Moderately differentiated; Grade II</td>\n",
       "      <td>Regional</td>\n",
       "      <td>40</td>\n",
       "      <td>Positive</td>\n",
       "      <td>Positive</td>\n",
       "      <td>19</td>\n",
       "      <td>11</td>\n",
       "      <td>1</td>\n",
       "      <td>Alive</td>\n",
       "    </tr>\n",
       "    <tr>\n",
       "      <th>1</th>\n",
       "      <td>47</td>\n",
       "      <td>Other (American Indian/AK Native, Asian/Pacifi...</td>\n",
       "      <td>Married (including common law)</td>\n",
       "      <td>T2</td>\n",
       "      <td>N2</td>\n",
       "      <td>IIIA</td>\n",
       "      <td>Moderately differentiated; Grade II</td>\n",
       "      <td>Regional</td>\n",
       "      <td>45</td>\n",
       "      <td>Positive</td>\n",
       "      <td>Positive</td>\n",
       "      <td>25</td>\n",
       "      <td>9</td>\n",
       "      <td>2</td>\n",
       "      <td>Alive</td>\n",
       "    </tr>\n",
       "    <tr>\n",
       "      <th>2</th>\n",
       "      <td>67</td>\n",
       "      <td>White</td>\n",
       "      <td>Married (including common law)</td>\n",
       "      <td>T2</td>\n",
       "      <td>N1</td>\n",
       "      <td>IIB</td>\n",
       "      <td>Poorly differentiated; Grade III</td>\n",
       "      <td>Regional</td>\n",
       "      <td>25</td>\n",
       "      <td>Positive</td>\n",
       "      <td>Positive</td>\n",
       "      <td>4</td>\n",
       "      <td>1</td>\n",
       "      <td>2</td>\n",
       "      <td>Dead</td>\n",
       "    </tr>\n",
       "    <tr>\n",
       "      <th>3</th>\n",
       "      <td>46</td>\n",
       "      <td>White</td>\n",
       "      <td>Divorced</td>\n",
       "      <td>T1</td>\n",
       "      <td>N1</td>\n",
       "      <td>IIA</td>\n",
       "      <td>Moderately differentiated; Grade II</td>\n",
       "      <td>Regional</td>\n",
       "      <td>19</td>\n",
       "      <td>Positive</td>\n",
       "      <td>Positive</td>\n",
       "      <td>26</td>\n",
       "      <td>1</td>\n",
       "      <td>2</td>\n",
       "      <td>Dead</td>\n",
       "    </tr>\n",
       "    <tr>\n",
       "      <th>4</th>\n",
       "      <td>63</td>\n",
       "      <td>White</td>\n",
       "      <td>Married (including common law)</td>\n",
       "      <td>T2</td>\n",
       "      <td>N2</td>\n",
       "      <td>IIIA</td>\n",
       "      <td>Moderately differentiated; Grade II</td>\n",
       "      <td>Regional</td>\n",
       "      <td>35</td>\n",
       "      <td>Positive</td>\n",
       "      <td>Positive</td>\n",
       "      <td>21</td>\n",
       "      <td>5</td>\n",
       "      <td>3</td>\n",
       "      <td>Dead</td>\n",
       "    </tr>\n",
       "  </tbody>\n",
       "</table>\n",
       "</div>"
      ],
      "text/plain": [
       "   Age                                              Race   \\\n",
       "0   43  Other (American Indian/AK Native, Asian/Pacifi...   \n",
       "1   47  Other (American Indian/AK Native, Asian/Pacifi...   \n",
       "2   67                                              White   \n",
       "3   46                                              White   \n",
       "4   63                                              White   \n",
       "\n",
       "                   Marital Status T Stage  N Stage 6th Stage  \\\n",
       "0  Married (including common law)       T2      N3      IIIC   \n",
       "1  Married (including common law)       T2      N2      IIIA   \n",
       "2  Married (including common law)       T2      N1       IIB   \n",
       "3                        Divorced       T1      N1       IIA   \n",
       "4  Married (including common law)       T2      N2      IIIA   \n",
       "\n",
       "                                 Grade   A Stage  Tumor Size Estrogen Status  \\\n",
       "0  Moderately differentiated; Grade II  Regional          40        Positive   \n",
       "1  Moderately differentiated; Grade II  Regional          45        Positive   \n",
       "2     Poorly differentiated; Grade III  Regional          25        Positive   \n",
       "3  Moderately differentiated; Grade II  Regional          19        Positive   \n",
       "4  Moderately differentiated; Grade II  Regional          35        Positive   \n",
       "\n",
       "  Progesterone Status  Regional Node Examined  Reginol Node Positive  \\\n",
       "0            Positive                      19                     11   \n",
       "1            Positive                      25                      9   \n",
       "2            Positive                       4                      1   \n",
       "3            Positive                      26                      1   \n",
       "4            Positive                      21                      5   \n",
       "\n",
       "   Survival Months Status  \n",
       "0                1  Alive  \n",
       "1                2  Alive  \n",
       "2                2   Dead  \n",
       "3                2   Dead  \n",
       "4                3   Dead  "
      ]
     },
     "metadata": {},
     "output_type": "display_data"
    },
    {
     "name": "stdout",
     "output_type": "stream",
     "text": [
      "*************************************************** Pandas-Generated info ****************************************************\n",
      "<class 'pandas.core.frame.DataFrame'>\n",
      "RangeIndex: 4024 entries, 0 to 4023\n",
      "Data columns (total 15 columns):\n",
      " #   Column                  Non-Null Count  Dtype \n",
      "---  ------                  --------------  ----- \n",
      " 0   Age                     4024 non-null   int64 \n",
      " 1   Race                    4024 non-null   object\n",
      " 2   Marital Status          4024 non-null   object\n",
      " 3   T Stage                 4024 non-null   object\n",
      " 4   N Stage                 4024 non-null   object\n",
      " 5   6th Stage               4024 non-null   object\n",
      " 6   Grade                   4024 non-null   object\n",
      " 7   A Stage                 4024 non-null   object\n",
      " 8   Tumor Size              4024 non-null   int64 \n",
      " 9   Estrogen Status         4024 non-null   object\n",
      " 10  Progesterone Status     4024 non-null   object\n",
      " 11  Regional Node Examined  4024 non-null   int64 \n",
      " 12  Reginol Node Positive   4024 non-null   int64 \n",
      " 13  Survival Months         4024 non-null   int64 \n",
      " 14  Status                  4024 non-null   object\n",
      "dtypes: int64(5), object(10)\n",
      "memory usage: 471.7+ KB\n"
     ]
    },
    {
     "data": {
      "text/plain": [
       "None"
      ]
     },
     "metadata": {},
     "output_type": "display_data"
    },
    {
     "name": "stdout",
     "output_type": "stream",
     "text": [
      "************************************************ Categorical features unique *************************************************\n",
      "Race \n",
      "['Other (American Indian/AK Native, Asian/Pacific Islander)' 'White'\n",
      " 'Black'] \n",
      "\n",
      "Marital Status\n",
      "['Married (including common law)' 'Divorced' 'Single (never married)'\n",
      " 'Widowed' 'Separated'] \n",
      "\n",
      "T Stage \n",
      "['T2' 'T1' 'T3' 'T4'] \n",
      "\n",
      "N Stage\n",
      "['N3' 'N2' 'N1'] \n",
      "\n",
      "6th Stage\n",
      "['IIIC' 'IIIA' 'IIB' 'IIA' 'IIIB'] \n",
      "\n",
      "Grade\n",
      "['Moderately differentiated; Grade II' 'Poorly differentiated; Grade III'\n",
      " 'Well differentiated; Grade I' 'Undifferentiated; anaplastic; Grade IV'] \n",
      "\n",
      "A Stage\n",
      "['Regional' 'Distant'] \n",
      "\n",
      "Estrogen Status\n",
      "['Positive' 'Negative'] \n",
      "\n",
      "Progesterone Status\n",
      "['Positive' 'Negative'] \n",
      "\n",
      "Status\n",
      "['Alive' 'Dead'] \n",
      "\n",
      "****************************************************** Dublicate check *******************************************************\n",
      "Number of dublicates is : 1\n",
      "********************************************************* NaN check **********************************************************\n",
      "Total number of NaN is : 0\n",
      "Number of NaN by column  : \n",
      " Age                       0\n",
      "Race                      0\n",
      "Marital Status            0\n",
      "T Stage                   0\n",
      "N Stage                   0\n",
      "6th Stage                 0\n",
      "Grade                     0\n",
      "A Stage                   0\n",
      "Tumor Size                0\n",
      "Estrogen Status           0\n",
      "Progesterone Status       0\n",
      "Regional Node Examined    0\n",
      "Reginol Node Positive     0\n",
      "Survival Months           0\n",
      "Status                    0\n",
      "dtype: int64\n"
     ]
    }
   ],
   "source": [
    "first_steps.first_descriptions(cancer_raw_data)"
   ]
  },
  {
   "cell_type": "markdown",
   "id": "b0a5c506",
   "metadata": {},
   "source": [
    "### Data cleaning plan:\n",
    "* **Seems like we have one dublicate, we'll delete it**  \n",
    "* **Some categorical features can be transformed in 0 or 1**  \n",
    "* **Also we'll separate data from out target column** "
   ]
  },
  {
   "cell_type": "code",
   "execution_count": 105,
   "id": "409a9c27",
   "metadata": {},
   "outputs": [],
   "source": [
    "# drop dublicates\n",
    "\n",
    "cancer_raw_data = cancer_raw_data.drop_duplicates()\n",
    "assert cancer_raw_data.duplicated().sum() == 0\n",
    "\n",
    "# boolean columns transform\n",
    "\n",
    "boolean_columns = [\n",
    "    'Estrogen Status',\n",
    "    'Progesterone Status'\n",
    "]\n",
    "for column in boolean_columns:\n",
    "    cancer_raw_data[column] = cancer_raw_data[column].apply(lambda x: 1 if x=='Positive' else 0)\n",
    "    \n",
    "# target transform\n",
    "target = cancer_raw_data['Status'].apply(lambda x: 1 if x=='Dead' else 0)"
   ]
  },
  {
   "cell_type": "markdown",
   "id": "5648d497",
   "metadata": {},
   "source": [
    "# EDA"
   ]
  },
  {
   "cell_type": "code",
   "execution_count": 108,
   "id": "e5daeb78",
   "metadata": {},
   "outputs": [
    {
     "data": {
      "text/plain": [
       "0    3407\n",
       "1     616\n",
       "Name: Status, dtype: int64"
      ]
     },
     "execution_count": 108,
     "metadata": {},
     "output_type": "execute_result"
    }
   ],
   "source": [
    "target.value_counts()"
   ]
  },
  {
   "cell_type": "markdown",
   "id": "577bd074",
   "metadata": {},
   "source": [
    "**Looks like we have unbalanced classes  \n",
    "In that case we'll learn and apply some techniques to fix it further on in modeling**"
   ]
  },
  {
   "cell_type": "code",
   "execution_count": null,
   "id": "d79681bc",
   "metadata": {},
   "outputs": [],
   "source": []
  }
 ],
 "metadata": {
  "kernelspec": {
   "display_name": "Python 3 (ipykernel)",
   "language": "python",
   "name": "python3"
  },
  "language_info": {
   "codemirror_mode": {
    "name": "ipython",
    "version": 3
   },
   "file_extension": ".py",
   "mimetype": "text/x-python",
   "name": "python",
   "nbconvert_exporter": "python",
   "pygments_lexer": "ipython3",
   "version": "3.9.13"
  }
 },
 "nbformat": 4,
 "nbformat_minor": 5
}
